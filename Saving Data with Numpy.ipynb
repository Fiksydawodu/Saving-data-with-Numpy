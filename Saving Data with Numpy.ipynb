{
 "cells": [
  {
   "cell_type": "markdown",
   "id": "b529dd0d",
   "metadata": {},
   "source": [
    "# Saving Files with NumPy"
   ]
  },
  {
   "cell_type": "code",
   "execution_count": 1,
   "id": "950ac009",
   "metadata": {},
   "outputs": [],
   "source": [
    "import numpy as np"
   ]
  },
  {
   "cell_type": "markdown",
   "id": "1e0cb808",
   "metadata": {},
   "source": [
    "## np.save()"
   ]
  },
  {
   "cell_type": "code",
   "execution_count": 3,
   "id": "86be3a75",
   "metadata": {},
   "outputs": [
    {
     "name": "stdout",
     "output_type": "stream",
     "text": [
      "[['LoanID' 'StringID' 'Product' ... 'AmtPaid60' 'AmtPaid360' 'LoanStatus']\n",
      " ['1' 'LoanID_1' 'Product B' ... '4166' '14621' 'Active']\n",
      " ['2' 'LoanID_2' 'Product D' ... '4096' '16041' 'Active']\n",
      " ...\n",
      " ['1041' 'LoanID_1041' 'Product A' ... '5143' '16617' 'Finished Payment']\n",
      " ['1042' 'LoanID_1042' 'Product B' ... '3462' '15617' 'Finished Payment']\n",
      " ['1043' 'LoanID_1043' 'Product A' ... '4743' '16617' 'Finished Payment']]\n"
     ]
    }
   ],
   "source": [
    "lending_co = np.genfromtxt('Lending-company.csv',\n",
    "                           delimiter = ',',\n",
    "                           dtype = str)\n",
    "print(lending_co)"
   ]
  },
  {
   "cell_type": "code",
   "execution_count": 4,
   "id": "4f42656b",
   "metadata": {},
   "outputs": [],
   "source": [
    "np.save('Lending-Company-Saving', lending_co)"
   ]
  },
  {
   "cell_type": "code",
   "execution_count": 5,
   "id": "b0ccaf9c",
   "metadata": {},
   "outputs": [],
   "source": [
    "lending_data_save = np.load('Lending-Company-Saving.npy')\n",
    "# The load function keeps the format we set prior to saving, while in import we get to change or specify the data\n",
    "# It saves it in an npy format"
   ]
  },
  {
   "cell_type": "code",
   "execution_count": 6,
   "id": "48d32c57",
   "metadata": {},
   "outputs": [
    {
     "name": "stdout",
     "output_type": "stream",
     "text": [
      "[['LoanID' 'StringID' 'Product' ... 'AmtPaid60' 'AmtPaid360' 'LoanStatus']\n",
      " ['1' 'LoanID_1' 'Product B' ... '4166' '14621' 'Active']\n",
      " ['2' 'LoanID_2' 'Product D' ... '4096' '16041' 'Active']\n",
      " ...\n",
      " ['1041' 'LoanID_1041' 'Product A' ... '5143' '16617' 'Finished Payment']\n",
      " ['1042' 'LoanID_1042' 'Product B' ... '3462' '15617' 'Finished Payment']\n",
      " ['1043' 'LoanID_1043' 'Product A' ... '4743' '16617' 'Finished Payment']]\n"
     ]
    }
   ],
   "source": [
    "print(lending_data_save)"
   ]
  },
  {
   "cell_type": "code",
   "execution_count": 7,
   "id": "9565864a",
   "metadata": {},
   "outputs": [
    {
     "data": {
      "text/plain": [
       "True"
      ]
     },
     "execution_count": 7,
     "metadata": {},
     "output_type": "execute_result"
    }
   ],
   "source": [
    "np.array_equal(lending_co, lending_data_save)"
   ]
  },
  {
   "cell_type": "markdown",
   "id": "c34e692e",
   "metadata": {},
   "source": [
    "## np.savez()"
   ]
  },
  {
   "cell_type": "code",
   "execution_count": 8,
   "id": "89d1e359",
   "metadata": {},
   "outputs": [],
   "source": [
    "lending_co = np.genfromtxt('Lending-company.csv',\n",
    "                           delimiter = ',',\n",
    "                           dtype = str)\n",
    "\n",
    "lending_data_save = np.load('Lending-Company-Saving.npy')"
   ]
  },
  {
   "cell_type": "code",
   "execution_count": 9,
   "id": "77fd70f6",
   "metadata": {},
   "outputs": [],
   "source": [
    "np.savez('Lending-Company-Saving', lending_co, lending_data_save)"
   ]
  },
  {
   "cell_type": "code",
   "execution_count": 10,
   "id": "42a620e8",
   "metadata": {},
   "outputs": [],
   "source": [
    "lending_data_savez = np.load('Lending-Company-Saving.npz')"
   ]
  },
  {
   "cell_type": "code",
   "execution_count": 14,
   "id": "0ea4fa13",
   "metadata": {},
   "outputs": [
    {
     "name": "stdout",
     "output_type": "stream",
     "text": [
      "[['LoanID' 'StringID' 'Product' ... 'AmtPaid60' 'AmtPaid360' 'LoanStatus']\n",
      " ['1' 'LoanID_1' 'Product B' ... '4166' '14621' 'Active']\n",
      " ['2' 'LoanID_2' 'Product D' ... '4096' '16041' 'Active']\n",
      " ...\n",
      " ['1041' 'LoanID_1041' 'Product A' ... '5143' '16617' 'Finished Payment']\n",
      " ['1042' 'LoanID_1042' 'Product B' ... '3462' '15617' 'Finished Payment']\n",
      " ['1043' 'LoanID_1043' 'Product A' ... '4743' '16617' 'Finished Payment']]\n"
     ]
    }
   ],
   "source": [
    "print(lending_data_savez['arr_1'])"
   ]
  },
  {
   "cell_type": "code",
   "execution_count": 15,
   "id": "9aa082c6",
   "metadata": {},
   "outputs": [],
   "source": [
    "np.savez('Lending-Company-Saving', company = lending_co, data_save = lending_data_save)"
   ]
  },
  {
   "cell_type": "code",
   "execution_count": 16,
   "id": "7e1d59c2",
   "metadata": {},
   "outputs": [],
   "source": [
    "lending_data_savez = np.load('Lending-Company-Saving.npz')"
   ]
  },
  {
   "cell_type": "code",
   "execution_count": 17,
   "id": "8fdacf5b",
   "metadata": {},
   "outputs": [
    {
     "data": {
      "text/plain": [
       "['company', 'data_save']"
      ]
     },
     "execution_count": 17,
     "metadata": {},
     "output_type": "execute_result"
    }
   ],
   "source": [
    "lending_data_savez.files"
   ]
  },
  {
   "cell_type": "code",
   "execution_count": 18,
   "id": "a3df89ed",
   "metadata": {},
   "outputs": [
    {
     "name": "stdout",
     "output_type": "stream",
     "text": [
      "[['LoanID' 'StringID' 'Product' ... 'AmtPaid60' 'AmtPaid360' 'LoanStatus']\n",
      " ['1' 'LoanID_1' 'Product B' ... '4166' '14621' 'Active']\n",
      " ['2' 'LoanID_2' 'Product D' ... '4096' '16041' 'Active']\n",
      " ...\n",
      " ['1041' 'LoanID_1041' 'Product A' ... '5143' '16617' 'Finished Payment']\n",
      " ['1042' 'LoanID_1042' 'Product B' ... '3462' '15617' 'Finished Payment']\n",
      " ['1043' 'LoanID_1043' 'Product A' ... '4743' '16617' 'Finished Payment']]\n"
     ]
    }
   ],
   "source": [
    "print(lending_data_savez['company'])"
   ]
  },
  {
   "cell_type": "code",
   "execution_count": 20,
   "id": "b0bb1da4",
   "metadata": {},
   "outputs": [
    {
     "data": {
      "text/plain": [
       "True"
      ]
     },
     "execution_count": 20,
     "metadata": {},
     "output_type": "execute_result"
    }
   ],
   "source": [
    "np.array_equal(lending_data_savez['company'], lending_data_savez['data_save'])"
   ]
  },
  {
   "cell_type": "code",
   "execution_count": null,
   "id": "59455fc8",
   "metadata": {},
   "outputs": [],
   "source": []
  }
 ],
 "metadata": {
  "kernelspec": {
   "display_name": "Python 3 (ipykernel)",
   "language": "python",
   "name": "python3"
  },
  "language_info": {
   "codemirror_mode": {
    "name": "ipython",
    "version": 3
   },
   "file_extension": ".py",
   "mimetype": "text/x-python",
   "name": "python",
   "nbconvert_exporter": "python",
   "pygments_lexer": "ipython3",
   "version": "3.9.12"
  }
 },
 "nbformat": 4,
 "nbformat_minor": 5
}
